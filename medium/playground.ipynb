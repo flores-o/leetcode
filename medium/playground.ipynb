{
 "cells": [
  {
   "cell_type": "code",
   "execution_count": 5,
   "metadata": {},
   "outputs": [
    {
     "name": "stdout",
     "output_type": "stream",
     "text": [
      "[2, 1, 0, 6, 1]\n",
      "[7, 1, 0, 3, 1]\n"
     ]
    }
   ],
   "source": [
    "arr = [2,3,1,6,7]\n",
    "\n",
    "xor = 0\n",
    "xor_arr = []\n",
    "for elem in arr:\n",
    "    xor ^= elem\n",
    "    xor_arr.append(xor)\n",
    "\n",
    "print(xor_arr)\n",
    "\n",
    "xor = 0\n",
    "reversed_xor_arr = []\n",
    "for idx in range(len(arr)-1, -1, -1):\n",
    "    xor ^= arr[idx]\n",
    "    reversed_xor_arr.append(xor)\n",
    "\n",
    "print(reversed_xor_arr)\n",
    "\n"
   ]
  },
  {
   "cell_type": "code",
   "execution_count": 14,
   "metadata": {},
   "outputs": [
    {
     "ename": "SyntaxError",
     "evalue": "invalid syntax (3559111905.py, line 10)",
     "output_type": "error",
     "traceback": [
      "\u001b[0;36m  Cell \u001b[0;32mIn[14], line 10\u001b[0;36m\u001b[0m\n\u001b[0;31m    plus_1 = max([ 1 for num in nums if num & (1 << idx) else 0])\u001b[0m\n\u001b[0m                                                         ^\u001b[0m\n\u001b[0;31mSyntaxError\u001b[0m\u001b[0;31m:\u001b[0m invalid syntax\n"
     ]
    }
   ],
   "source": [
    "nums = [1, 5]\n",
    "counter = 0\n",
    "max_elem = max(nums)\n",
    "\n",
    "# get the index of the leftmost set bit in max_elem\n",
    "idx_leftmost_set_bit = max_elem.bit_length() - 1\n",
    "\n",
    "for idx in range(idx_leftmost_set_bit, 0, -1):\n",
    "    print(idx)\n",
    "    plus_1 = max([1 if num & (1 << idx) else 0 for num in nums])\n",
    "    print(plus_1)\n",
    "    counter += plus_1\n",
    "    counter += 1\n",
    "return counter\n",
    "    \n",
    "\n",
    "\n",
    "\n",
    "\n"
   ]
  },
  {
   "cell_type": "code",
   "execution_count": 13,
   "metadata": {},
   "outputs": [
    {
     "name": "stdout",
     "output_type": "stream",
     "text": [
      "0b1000000000001\n",
      "12\n"
     ]
    }
   ],
   "source": [
    "a = (1 << 12) + 1\n",
    "print((bin(a)))\n",
    "print(a.bit_length() - 1)"
   ]
  },
  {
   "cell_type": "code",
   "execution_count": null,
   "metadata": {},
   "outputs": [],
   "source": []
  }
 ],
 "metadata": {
  "kernelspec": {
   "display_name": "Python 3",
   "language": "python",
   "name": "python3"
  },
  "language_info": {
   "codemirror_mode": {
    "name": "ipython",
    "version": 3
   },
   "file_extension": ".py",
   "mimetype": "text/x-python",
   "name": "python",
   "nbconvert_exporter": "python",
   "pygments_lexer": "ipython3",
   "version": "3.10.0"
  },
  "orig_nbformat": 4,
  "vscode": {
   "interpreter": {
    "hash": "c5acb9ffd815cbe564ad2747987d7f39555596647f424f7e7e6361dd2fe2414c"
   }
  }
 },
 "nbformat": 4,
 "nbformat_minor": 2
}
